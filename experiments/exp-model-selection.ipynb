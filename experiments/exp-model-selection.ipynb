{
 "cells": [
  {
   "cell_type": "code",
   "execution_count": 45,
   "metadata": {},
   "outputs": [],
   "source": [
    "import pickle\n",
    "import numpy as np\n",
    "\n",
    "from sklearn.linear_model import LogisticRegression\n",
    "from sklearn.multiclass import OneVsRestClassifier\n",
    "from sklearn.svm import SVC\n",
    "from sklearn.neighbors import KNeighborsClassifier\n",
    "\n",
    "from collections import namedtuple\n",
    "\n",
    "from sklearn.model_selection import cross_val_score\n",
    "from sklearn.model_selection import KFold\n",
    "\n",
    "import tqdm\n",
    "\n",
    "import pandas as pd\n",
    "\n",
    "from itertools import combinations"
   ]
  },
  {
   "cell_type": "markdown",
   "metadata": {},
   "source": [
    "## Load embeds\n",
    "\n",
    "Each embed object is dict with `name` (name of the model), `X` (embedding matrixx), `Y` (labels) keys\n",
    "\n",
    "Now we expect that `X` from each model is in the same order (but in future we should add `ids`)"
   ]
  },
  {
   "cell_type": "code",
   "execution_count": 4,
   "metadata": {},
   "outputs": [],
   "source": [
    "embed_filenames = (\n",
    "    'elmo_ru-news_wmt11-16_1.5M_steps.pickle',\n",
    "    'fasttext-hh-test.pickle',\n",
    "    'glove-hh-test.pickle',\n",
    "    'word2vec-hh-test.pickle',\n",
    "    'models_data.pickle'\n",
    ")"
   ]
  },
  {
   "cell_type": "code",
   "execution_count": 73,
   "metadata": {},
   "outputs": [],
   "source": [
    "embeds = []\n",
    "for embed_filename in embed_filenames:\n",
    "    with open(\n",
    "        \"/home/vera/projects/embeddings-test/{}\".format(embed_filename),\n",
    "        \"rb\"\n",
    "    ) as handle:\n",
    "        embeds += pickle.load(handle)"
   ]
  },
  {
   "cell_type": "markdown",
   "metadata": {},
   "source": [
    "### Subset embeds from list"
   ]
  },
  {
   "cell_type": "code",
   "execution_count": 80,
   "metadata": {},
   "outputs": [],
   "source": [
    "SELECTED_EMBEDS = [\n",
    "    \"elmo_ru-news_wmt11-16_1.5M_steps\",\n",
    "    \"fasttext-hh-test\",\n",
    "    'glove-hh-test',\n",
    "    'word2vec-hh-test',\n",
    "    'araneum_upos_skipgram_600_2_2017',\n",
    "    'news_mystem_skipgram_1000_20_2015',\n",
    "    'ruscorpora_upos_skipgram_600_10_2017',\n",
    "    'ruwikiruscorpora_upos_skipgram_300_2_2018',\n",
    "    'taiga_upos_skipgram_300_2_2018',\n",
    "    'web_upos_cbow_300_20_2017',\n",
    "    'araneum_none_fasttextskipgram_300_5_2018'\n",
    "]"
   ]
  },
  {
   "cell_type": "code",
   "execution_count": 81,
   "metadata": {},
   "outputs": [],
   "source": [
    "embeds = [embed for embed in embeds if embed[\"name\"] in SELECTED_EMBEDS]"
   ]
  },
  {
   "cell_type": "markdown",
   "metadata": {},
   "source": [
    "## Define classificators\n",
    "\n",
    "Define classificators and gris search params for them"
   ]
  },
  {
   "cell_type": "code",
   "execution_count": 82,
   "metadata": {},
   "outputs": [],
   "source": [
    "Classifier = namedtuple(\"Classifier\", \"name clf\")"
   ]
  },
  {
   "cell_type": "code",
   "execution_count": 83,
   "metadata": {},
   "outputs": [],
   "source": [
    "classifiers = [\n",
    "    Classifier(\"Logistic\", OneVsRestClassifier(LogisticRegression())),\n",
    "    Classifier(\"KNN\", KNeighborsClassifier()),\n",
    "    Classifier(\"SVC\", OneVsRestClassifier(SVC()))\n",
    "]"
   ]
  },
  {
   "cell_type": "markdown",
   "metadata": {},
   "source": [
    "## Iterate trhough embeddings\n",
    "\n",
    "and check cross-validation for each classificatir"
   ]
  },
  {
   "cell_type": "code",
   "execution_count": 90,
   "metadata": {},
   "outputs": [],
   "source": [
    "def get_combinations(values, min_len, max_len):\n",
    "    \"\"\"Smart combination getter\n",
    "    \n",
    "    Get all unique elements combinations\n",
    "    with length in [min_len; max_len] from specified list\n",
    "    \"\"\"\n",
    "    result_combinations = []\n",
    "    \n",
    "    for combination_len in range(min_len, max_len + 1):\n",
    "        result_combinations += list(combinations(values, combination_len))\n",
    "    \n",
    "    return result_combinations"
   ]
  },
  {
   "cell_type": "code",
   "execution_count": 87,
   "metadata": {},
   "outputs": [],
   "source": [
    "cv = KFold(n_splits=10, shuffle=True, random_state=23)"
   ]
  },
  {
   "cell_type": "code",
   "execution_count": 103,
   "metadata": {},
   "outputs": [
    {
     "data": {
      "application/vnd.jupyter.widget-view+json": {
       "model_id": "3216936e7bb140c79386913b0871e11d",
       "version_major": 2,
       "version_minor": 0
      },
      "text/plain": [
       "HBox(children=(IntProgress(value=0, max=231), HTML(value='')))"
      ]
     },
     "metadata": {},
     "output_type": "display_data"
    }
   ],
   "source": [
    "result_datas = []\n",
    "\n",
    "for embed_combination in tqdm.tqdm_notebook(get_combinations(embeds, 1, 3)):\n",
    "    # stack all X matricies\n",
    "    X = np.concatenate([embed[\"x\"] for embed in embed_combination], axis=1)\n",
    "    \n",
    "    # subset Y just from first embed\n",
    "    Y = embed_combination[0][\"y\"]\n",
    "    \n",
    "    name = \" \".join([embed[\"name\"] for embed in embed_combination])\n",
    "    \n",
    "    for classifier in classifiers:\n",
    "        scores = cross_val_score(classifier.clf, X, Y, cv=cv)\n",
    "        \n",
    "        result_datas.append((\n",
    "            name,\n",
    "            classifier.name,\n",
    "            np.mean(scores)\n",
    "        ))\n",
    "        \n",
    "results_datas_df = pd.DataFrame(result_datas)\n",
    "results_datas_df.columns = [\"embedding_name\", \"classifier_name\", \"accuracy\"]"
   ]
  },
  {
   "cell_type": "markdown",
   "metadata": {},
   "source": [
    "## Select best and check with large cv option"
   ]
  },
  {
   "cell_type": "markdown",
   "metadata": {},
   "source": [
    "### Show top results"
   ]
  },
  {
   "cell_type": "code",
   "execution_count": 105,
   "metadata": {},
   "outputs": [
    {
     "data": {
      "text/html": [
       "<div>\n",
       "<style scoped>\n",
       "    .dataframe tbody tr th:only-of-type {\n",
       "        vertical-align: middle;\n",
       "    }\n",
       "\n",
       "    .dataframe tbody tr th {\n",
       "        vertical-align: top;\n",
       "    }\n",
       "\n",
       "    .dataframe thead th {\n",
       "        text-align: right;\n",
       "    }\n",
       "</style>\n",
       "<table border=\"1\" class=\"dataframe\">\n",
       "  <thead>\n",
       "    <tr style=\"text-align: right;\">\n",
       "      <th></th>\n",
       "      <th>embedding_name</th>\n",
       "      <th>classifier_name</th>\n",
       "      <th>accuracy</th>\n",
       "    </tr>\n",
       "  </thead>\n",
       "  <tbody>\n",
       "    <tr>\n",
       "      <th>246</th>\n",
       "      <td>elmo_ru-news_wmt11-16_1.5M_steps glove-hh-test...</td>\n",
       "      <td>Logistic</td>\n",
       "      <td>0.797426</td>\n",
       "    </tr>\n",
       "    <tr>\n",
       "      <th>225</th>\n",
       "      <td>elmo_ru-news_wmt11-16_1.5M_steps glove-hh-test...</td>\n",
       "      <td>Logistic</td>\n",
       "      <td>0.797059</td>\n",
       "    </tr>\n",
       "    <tr>\n",
       "      <th>198</th>\n",
       "      <td>elmo_ru-news_wmt11-16_1.5M_steps fasttext-hh-t...</td>\n",
       "      <td>Logistic</td>\n",
       "      <td>0.797059</td>\n",
       "    </tr>\n",
       "  </tbody>\n",
       "</table>\n",
       "</div>"
      ],
      "text/plain": [
       "                                        embedding_name classifier_name  \\\n",
       "246  elmo_ru-news_wmt11-16_1.5M_steps glove-hh-test...        Logistic   \n",
       "225  elmo_ru-news_wmt11-16_1.5M_steps glove-hh-test...        Logistic   \n",
       "198  elmo_ru-news_wmt11-16_1.5M_steps fasttext-hh-t...        Logistic   \n",
       "\n",
       "     accuracy  \n",
       "246  0.797426  \n",
       "225  0.797059  \n",
       "198  0.797059  "
      ]
     },
     "execution_count": 105,
     "metadata": {},
     "output_type": "execute_result"
    }
   ],
   "source": [
    "results_datas_df.sort_values([\"accuracy\"], ascending=False).head(3)"
   ]
  },
  {
   "cell_type": "code",
   "execution_count": 107,
   "metadata": {},
   "outputs": [
    {
     "data": {
      "text/plain": [
       "['elmo_ru-news_wmt11-16_1.5M_steps',\n",
       " 'glove-hh-test',\n",
       " 'araneum_none_fasttextskipgram_300_5_2018']"
      ]
     },
     "execution_count": 107,
     "metadata": {},
     "output_type": "execute_result"
    }
   ],
   "source": [
    "results_datas_df.sort_values([\"accuracy\"], ascending=False)[\"embedding_name\"].values[0].split(\" \")"
   ]
  },
  {
   "cell_type": "markdown",
   "metadata": {},
   "source": [
    "### Set best"
   ]
  },
  {
   "cell_type": "code",
   "execution_count": 110,
   "metadata": {},
   "outputs": [
    {
     "name": "stdout",
     "output_type": "stream",
     "text": [
      "['elmo_ru-news_wmt11-16_1.5M_steps', 'glove-hh-test', 'araneum_none_fasttextskipgram_300_5_2018']\n",
      "3\n",
      "0.8095238095238095\n"
     ]
    }
   ],
   "source": [
    "best_names = results_datas_df.sort_values(\n",
    "    [\"accuracy\"], ascending=False\n",
    ")[\"embedding_name\"].values[0].split(\" \")\n",
    "print(best_names)\n",
    "\n",
    "embed_combination = [embed for embed in embeds if embed[\"name\"] in best_names]\n",
    "print(len(embed_combination))\n",
    "\n",
    "X = np.concatenate([embed[\"x\"] for embed in embed_combination], axis=1)\n",
    "Y = embed_combination[0][\"y\"]\n",
    "\n",
    "scores = cross_val_score(\n",
    "    LogisticRegression(),\n",
    "    X,\n",
    "    Y,\n",
    "    cv=KFold(n_splits=168, shuffle=True, random_state=34)\n",
    ")\n",
    "\n",
    "print(np.mean(scores))"
   ]
  },
  {
   "cell_type": "code",
   "execution_count": null,
   "metadata": {},
   "outputs": [],
   "source": []
  }
 ],
 "metadata": {
  "kernelspec": {
   "display_name": "Python 3",
   "language": "python",
   "name": "python3"
  },
  "language_info": {
   "codemirror_mode": {
    "name": "ipython",
    "version": 3
   },
   "file_extension": ".py",
   "mimetype": "text/x-python",
   "name": "python",
   "nbconvert_exporter": "python",
   "pygments_lexer": "ipython3",
   "version": "3.6.4"
  }
 },
 "nbformat": 4,
 "nbformat_minor": 2
}
