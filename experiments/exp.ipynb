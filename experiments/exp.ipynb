{
 "cells": [
  {
   "cell_type": "code",
   "execution_count": 23,
   "metadata": {},
   "outputs": [
    {
     "name": "stderr",
     "output_type": "stream",
     "text": [
      "/home/vera/.venv/py3/lib/python3.6/importlib/_bootstrap.py:219: RuntimeWarning: numpy.dtype size changed, may indicate binary incompatibility. Expected 96, got 88\n",
      "  return f(*args, **kwds)\n",
      "/home/vera/.venv/py3/lib/python3.6/importlib/_bootstrap.py:219: RuntimeWarning: numpy.dtype size changed, may indicate binary incompatibility. Expected 96, got 88\n",
      "  return f(*args, **kwds)\n"
     ]
    }
   ],
   "source": [
    "import pandas as pd\n",
    "import numpy as np\n",
    "import editdistance\n",
    "\n",
    "from pymystem3 import Mystem\n",
    "import json\n",
    "\n",
    "from sklearn.neighbors import KNeighborsClassifier\n",
    "from sklearn.model_selection import LeaveOneOut\n",
    "from sklearn.metrics import accuracy_score\n",
    "\n",
    "from gensim.models import KeyedVectors\n",
    "from sklearn.model_selection import GridSearchCV"
   ]
  },
  {
   "cell_type": "code",
   "execution_count": 72,
   "metadata": {},
   "outputs": [
    {
     "data": {
      "text/plain": [
       "'красивый_ADJ'"
      ]
     },
     "execution_count": 72,
     "metadata": {},
     "output_type": "execute_result"
    }
   ],
   "source": [
    "stemmer = Mystem()\n",
    "\n",
    "mystem_to_upos = {\n",
    "    \"A\": \"ADJ\",\n",
    "    \"ADV\": \"ADV\",\n",
    "    \"ADVPRO\": \"ADV\",\n",
    "    \"ANUM\": \"ADJ\",\n",
    "    \"APRO\": \"DET\",\n",
    "    \"COM\": \"ADJ\",\n",
    "    \"CONJ\": \"SCONJ\",\n",
    "    \"INTJ\": \"INTJ\",\n",
    "    \"NONLEX\": \"X\",\n",
    "    \"NUM\": \"NUM\",\n",
    "    \"PART\": \"PART\",\n",
    "    \"PR\": \"ADP\",\n",
    "    \"S\": \"NOUN\",\n",
    "    \"SPRO\": \"PRON\",\n",
    "    \"UNKN\": \"X\",\n",
    "    \"V\": \"VERB\",\n",
    "}\n",
    "\n",
    "def tag(word, tagset=None):\n",
    "    \"\"\"Get lexema from word and add tag\"\"\"\n",
    "    if not tagset:\n",
    "        return word.lower()\n",
    "        \n",
    "    processed = stemmer.analyze(word)[0]\n",
    "    \n",
    "    try:\n",
    "        lemma = processed[\"analysis\"][0][\"lex\"].lower().strip()\n",
    "\n",
    "        pos = processed[\"analysis\"][0][\"gr\"].split(',')[0]\n",
    "        pos = pos.split('=')[0].strip()\n",
    "\n",
    "        if tagset == Tagset.UPOS:\n",
    "            return \"{}_{}\".format(lemma, mystem_to_upos[pos])\n",
    "        else:\n",
    "            return \"{}_{}\".format(lemma, pos)\n",
    "    except:\n",
    "        return \"word\"\n",
    "\n",
    "tag(\"красивый\", Tagset.UPOS)"
   ]
  },
  {
   "cell_type": "raw",
   "metadata": {},
   "source": [
    "model = KeyedVectors.load_word2vec_format(\n",
    "    \"/mnt/data/all.norm-sz500-w10-cb0-it3-min5.w2v\",\n",
    "    binary=True,\n",
    "    unicode_errors='ignore'\n",
    ")"
   ]
  },
  {
   "cell_type": "raw",
   "metadata": {},
   "source": [
    "model.save(\"/mnt/data/all.norm-sz500-w10-cb0-it3-min5\")"
   ]
  },
  {
   "cell_type": "code",
   "execution_count": 78,
   "metadata": {},
   "outputs": [],
   "source": [
    "from enum import Enum\n",
    "class Tagset(Enum):\n",
    "    UPOS = 1\n",
    "    MYSTEM = 2\n",
    "\n",
    "class ModelType(Enum):\n",
    "    W2V = 1\n",
    "    FASTTEXT = 2\n",
    "\n",
    "folder_path = '/mnt/data/embedding_models/'\n",
    "config = [\n",
    "    {'path': folder_path+'araneum_none_fasttextcbow_300_5_2018/araneum_none_fasttextcbow_300_5_2018.model', 'type': ModelType.FASTTEXT, 'tagset': None},\n",
    "    {'path': folder_path+'araneum_none_fasttextskipgram_300_5_2018/araneum_none_fasttextskipgram_300_5_2018.model', 'type': ModelType.FASTTEXT, 'tagset': None},\n",
    "    {'path': folder_path+'araneum_upos_skipgram_300_2_2018.vec', 'type': ModelType.W2V, 'tagset': Tagset.UPOS},\n",
    "    {'path': folder_path+'araneum_upos_skipgram_600_2_2017.bin', 'type': ModelType.W2V, 'tagset': Tagset.UPOS},\n",
    "    {'path': folder_path+'news_mystem_skipgram_1000_20_2015.bin', 'type': ModelType.W2V, 'tagset': Tagset.MYSTEM},\n",
    "    {'path': folder_path+'news_upos_cbow_300_2_2017.bin', 'type': ModelType.W2V, 'tagset': Tagset.UPOS},\n",
    "    {'path': folder_path+'news_upos_cbow_600_2_2018.vec', 'type': ModelType.W2V, 'tagset': Tagset.UPOS},\n",
    "    {'path': folder_path+'ruscorpora_mystem_cbow_300_2_2015.bin', 'type': ModelType.W2V, 'tagset': Tagset.MYSTEM}, \n",
    "    {'path': folder_path+'ruscorpora_upos_skipgram_300_10_2017.bin', 'type': ModelType.W2V, 'tagset': Tagset.UPOS},\n",
    "    {'path': folder_path+'ruscorpora_upos_skipgram_300_5_2018.vec', 'type': ModelType.W2V, 'tagset': Tagset.UPOS},\n",
    "    {'path': folder_path+'ruscorpora_upos_skipgram_600_10_2017.bin', 'type': ModelType.W2V, 'tagset': Tagset.UPOS},\n",
    "    {'path': folder_path+'ruwikiruscorpora-nobigrams_upos_skipgram_300_5_2018.vec', 'type': ModelType.W2V, 'tagset': Tagset.UPOS},\n",
    "    {'path': folder_path+'ruwikiruscorpora-superbigrams_skipgram_300_2_2018.vec', 'type': ModelType.W2V, 'tagset': Tagset.UPOS},\n",
    "    {'path': folder_path+'ruwikiruscorpora_upos_cbow_300_20_2017.bin', 'type': ModelType.W2V, 'tagset': Tagset.UPOS},\n",
    "    {'path': folder_path+'ruwikiruscorpora_upos_skipgram_300_2_2018.vec', 'type': ModelType.W2V, 'tagset': Tagset.UPOS},\n",
    "    {'path': folder_path+'taiga_upos_skipgram_300_2_2018.vec', 'type': ModelType.W2V, 'tagset': Tagset.UPOS},\n",
    "    {'path': folder_path+'web_mystem_skipgram_500_2_2015.bin', 'type': ModelType.W2V, 'tagset': Tagset.MYSTEM},\n",
    "    {'path': folder_path+'web_upos_cbow_300_20_2017.bin', 'type': ModelType.W2V, 'tagset': Tagset.UPOS},\n",
    "    \n",
    "    \n",
    "]\n",
    "# ruwikiruscorpora_mystem_cbow_500_2_2015.bin.gz - damaged, can't unpack"
   ]
  },
  {
   "cell_type": "code",
   "execution_count": 63,
   "metadata": {},
   "outputs": [
    {
     "name": "stdout",
     "output_type": "stream",
     "text": [
      "[ 7.48695880e-02 -1.52753353e-01  1.06077110e-04 -1.74655825e-01\n",
      " -5.14660291e-02 -1.89847872e-01 -2.61208322e-02 -1.18963845e-01\n",
      " -2.08503697e-02 -2.95836300e-01 -3.31608772e-01  2.70554423e-01\n",
      " -1.76262170e-01 -2.23780394e-01  1.69155806e-01 -6.61839694e-02\n",
      "  1.13103688e-02 -1.03949293e-01  2.36681402e-02  1.03438698e-01\n",
      " -6.01457357e-02 -6.38513640e-02  5.31587183e-01 -1.37142286e-01\n",
      "  2.87178196e-02  9.94504243e-02  1.16282701e-01  2.87400156e-01\n",
      " -4.73069847e-01 -2.89020360e-01  3.42368707e-02 -4.85637844e-01\n",
      "  1.73965484e-01  1.62362844e-01  3.82165164e-01 -8.92007202e-02\n",
      " -2.17388257e-01  5.72458446e-01  1.03656717e-01  2.65044957e-01\n",
      "  1.24716468e-01 -3.65553677e-01 -2.65571684e-01  8.31584871e-01\n",
      " -9.67214927e-02 -4.42985818e-02  2.39112809e-01 -9.13406461e-02\n",
      " -1.37247711e-01  4.71524661e-03  7.52480850e-02 -4.68000732e-02\n",
      "  1.80732831e-01 -9.50379483e-03 -2.13996440e-01 -5.52565381e-02\n",
      " -4.05137539e-02  3.33702028e-01 -5.52371621e-01  9.02125239e-03\n",
      " -3.11136246e-04  7.34406769e-01 -1.15363352e-01 -2.16255933e-01\n",
      " -1.82749271e-01  3.80032629e-01 -2.52655953e-01 -2.31878422e-02\n",
      " -1.56400293e-01 -2.88402587e-01 -2.50186890e-01  2.10692093e-01\n",
      "  1.94442138e-01 -2.10838959e-01 -6.02910340e-01 -4.02481258e-02\n",
      "  2.11800337e-01 -2.86258012e-01  1.66966870e-01  1.87618122e-01\n",
      " -4.03638124e-01  3.10252570e-02  5.09993434e-02 -2.27977425e-01\n",
      " -1.64396018e-01 -1.01617575e-01 -2.57855207e-01  2.77015090e-01\n",
      "  3.43638808e-02 -8.97161290e-02  2.13489637e-01 -1.61662907e-03\n",
      " -2.02842370e-01 -1.16852917e-01  2.09800869e-01 -3.02901864e-02\n",
      " -2.01852426e-01  8.21561739e-02  4.31001000e-02 -4.01520818e-01\n",
      "  5.39816730e-02  4.26963031e-01  4.54081409e-02 -7.91829675e-02\n",
      " -1.01661168e-01  3.00485551e-01  1.65899143e-01 -3.80576514e-02\n",
      " -2.85884440e-01 -4.12818976e-02 -5.99541545e-01  2.33745739e-01\n",
      " -5.32681821e-03 -3.32002431e-01 -3.35483164e-01  5.05057499e-02\n",
      " -4.91768032e-01 -2.60582626e-01 -1.71434626e-01  2.09071450e-02\n",
      " -3.26458603e-01  2.66968489e-01 -1.41882390e-01 -1.30287394e-01\n",
      "  2.85566986e-01 -1.48512870e-01  2.95177251e-01  1.84702486e-01\n",
      " -5.16432583e-01 -1.02700628e-01 -4.25036214e-02 -3.71500015e-01\n",
      "  2.11159334e-01  3.20185244e-01 -4.15673941e-01 -3.15016061e-01\n",
      "  3.91990513e-01  3.01144451e-01  1.27715334e-01 -2.59115070e-01\n",
      "  1.17136471e-01 -1.14080735e-01 -1.74974158e-01 -2.72639573e-01\n",
      " -1.45776616e-02  6.89814508e-01 -6.06176592e-02 -2.29158655e-01\n",
      " -3.98769945e-01  1.74872667e-01  1.84321001e-01  5.24649359e-02\n",
      " -2.01578438e-02  5.77307008e-02  4.26298119e-02 -1.18289672e-01\n",
      "  1.90138608e-01 -3.47841710e-01 -2.23854408e-01 -2.37403259e-01\n",
      "  7.28113800e-02 -4.11668241e-01  8.76494646e-02 -3.40106755e-01\n",
      " -7.23188967e-02  1.96793288e-01  1.01593770e-01  1.23056704e-02\n",
      "  1.88351676e-01  1.06825829e-01  1.66534349e-01  3.88589442e-01\n",
      " -1.93676949e-01  6.59952760e-02 -4.78082411e-02 -1.58472747e-01\n",
      "  5.37538409e-01  3.22215632e-03 -6.30164593e-02  2.42994651e-01\n",
      "  2.98650097e-02 -1.19080439e-01  2.07641870e-01 -1.30765587e-01\n",
      "  2.04430986e-02  1.71953708e-01  3.49476002e-02  1.89506054e-01\n",
      " -2.24519536e-01 -3.28576654e-01 -6.48627430e-02 -4.26903635e-01\n",
      "  4.19493824e-01 -1.80248067e-01 -1.41144186e-01 -2.87742596e-02\n",
      " -4.11486700e-02 -4.25539911e-01  3.35381031e-02 -1.04347050e-01\n",
      " -2.30110377e-01  3.13292265e-01 -4.45844047e-02 -1.55748203e-01\n",
      "  3.38853061e-01  3.24944019e-01 -6.57417551e-02 -3.14668357e-01\n",
      " -5.69284141e-01 -3.77845705e-01  4.82422292e-01  1.95968952e-02\n",
      " -1.56594887e-01  6.15996420e-02 -8.63144845e-02  2.90296465e-01\n",
      "  1.72711164e-01 -2.13016182e-01  1.31180480e-01  1.88018717e-02\n",
      "  2.54989117e-01  3.14635894e-04 -2.48387024e-01 -4.12040889e-01\n",
      " -4.78864431e-01  2.64715254e-01 -3.06299418e-01  5.45473918e-02\n",
      "  2.37179361e-02  2.69505650e-01  1.42482892e-01 -3.97677124e-01\n",
      "  2.74718851e-01  6.87807379e-03 -2.60738283e-01 -2.06504717e-01\n",
      " -1.44654512e-01  2.44219035e-01 -1.45510674e-01 -3.47736388e-01\n",
      "  1.03886530e-01 -2.08125025e-01  1.03619613e-01  6.03441820e-02\n",
      " -5.54200001e-02  2.06076071e-01 -3.15447152e-01  3.90583090e-02\n",
      "  3.01234156e-01  1.25539422e-01  9.61998478e-02 -9.59342569e-02\n",
      " -8.34890455e-02 -2.73409426e-01  4.25233953e-02 -4.82681468e-02\n",
      "  1.69855103e-01 -2.21720040e-02 -2.02103689e-01  2.76690334e-01\n",
      " -3.55554312e-01  2.18178660e-01  1.72791332e-01 -3.71091887e-02\n",
      " -2.35772878e-01  9.63872075e-02 -1.68301791e-01  8.65443125e-02\n",
      " -9.78599302e-03 -3.22235018e-01  1.68997616e-01 -1.27771646e-01\n",
      " -5.17463207e-01 -3.67763750e-02 -1.86928183e-01 -1.79188997e-01\n",
      "  9.45290700e-02 -5.34896888e-02  2.72368520e-01 -2.64063329e-01\n",
      "  1.58570692e-01  1.70360327e-01 -3.76902521e-01 -1.80669546e-01\n",
      " -1.52075291e-01 -2.59129375e-01  1.59248039e-01  3.55381161e-01\n",
      " -1.48942396e-01  2.94631720e-01  3.42968330e-02  1.95625231e-01\n",
      "  4.70874548e-01  2.82987533e-03 -2.53758691e-02  3.55759487e-02\n",
      "  2.39284933e-02 -7.52360821e-02  2.21748546e-01 -3.42415810e-01]\n"
     ]
    },
    {
     "name": "stderr",
     "output_type": "stream",
     "text": [
      "/home/vera/.venv/py3/lib/python3.6/site-packages/ipykernel_launcher.py:5: DeprecationWarning: Call to deprecated `__getitem__` (Method will be removed in 4.0.0, use self.wv.__getitem__() instead).\n",
      "  \"\"\"\n"
     ]
    }
   ],
   "source": [
    "from gensim.models import FastText\n",
    "# model = FastText.load_fasttext_format('/mnt/data/embedding_models/araneum_none_fasttextcbow_300_5_2018.model',encoding='utf8')\n",
    "model = FastText.load('/mnt/data/embedding_models/araneum_none_fasttextskipgram_300_5_2018.model')\n",
    "\n",
    "print(model['резюме'])"
   ]
  },
  {
   "cell_type": "raw",
   "metadata": {},
   "source": []
  },
  {
   "cell_type": "raw",
   "metadata": {},
   "source": []
  },
  {
   "cell_type": "code",
   "execution_count": 64,
   "metadata": {},
   "outputs": [
    {
     "name": "stdout",
     "output_type": "stream",
     "text": [
      "300\n"
     ]
    },
    {
     "name": "stderr",
     "output_type": "stream",
     "text": [
      "/home/vera/.venv/py3/lib/python3.6/site-packages/ipykernel_launcher.py:3: DeprecationWarning: Call to deprecated `__getitem__` (Method will be removed in 4.0.0, use self.wv.__getitem__() instead).\n",
      "  This is separate from the ipykernel package so we can avoid doing imports until\n"
     ]
    }
   ],
   "source": [
    "# DIM = len(model.words)\n",
    "\n",
    "DIM = len(model[next(iter(model.wv.vocab.keys()))])\n",
    "print(DIM)"
   ]
  },
  {
   "cell_type": "raw",
   "metadata": {},
   "source": []
  },
  {
   "cell_type": "code",
   "execution_count": 20,
   "metadata": {},
   "outputs": [],
   "source": [
    "def get_words(text):\n",
    "    return \" \".join([\n",
    "        tag(word) for word in text.split()\n",
    "    ])"
   ]
  },
  {
   "cell_type": "code",
   "execution_count": 21,
   "metadata": {},
   "outputs": [],
   "source": [
    "def calculate_vector(text, model=model):                                          \n",
    "    vector = np.zeros(DIM)\n",
    "    words = [tag(word) for word in text.split()]\n",
    "\n",
    "    words_in_model = 0                                                  \n",
    "    for word in words:                                               \n",
    "        if word in model.wv.vocab:                                              \n",
    "            vector += model[word]                           \n",
    "            words_in_model += 1                                             \n",
    "\n",
    "    if words_in_model > 0:                                                  \n",
    "        vector /= words_in_model                                            \n",
    "\n",
    "    return vector "
   ]
  },
  {
   "cell_type": "raw",
   "metadata": {},
   "source": []
  },
  {
   "cell_type": "raw",
   "metadata": {},
   "source": []
  },
  {
   "cell_type": "raw",
   "metadata": {},
   "source": []
  },
  {
   "cell_type": "code",
   "execution_count": 65,
   "metadata": {},
   "outputs": [
    {
     "name": "stderr",
     "output_type": "stream",
     "text": [
      "/home/vera/.venv/py3/lib/python3.6/site-packages/ipykernel_launcher.py:8: DeprecationWarning: Call to deprecated `__getitem__` (Method will be removed in 4.0.0, use self.wv.__getitem__() instead).\n",
      "  \n"
     ]
    }
   ],
   "source": [
    "with open(\"/home/vera/projects/profile-identity/data/dialog-ru-ru.json\", \"r\") as infile:\n",
    "    data = json.load(infile)\n",
    "    \n",
    "X, Y = [], []\n",
    "\n",
    "for label, category in enumerate(data):\n",
    "    for q in category[\"questions\"]:\n",
    "        Y.append(label)\n",
    "        X.append(calculate_vector(q))\n",
    "        \n",
    "X = np.array(X)\n",
    "Y = np.array(Y)"
   ]
  },
  {
   "cell_type": "raw",
   "metadata": {},
   "source": []
  },
  {
   "cell_type": "raw",
   "metadata": {},
   "source": []
  },
  {
   "cell_type": "raw",
   "metadata": {},
   "source": [
    "data = pd.read_csv(\"/home/vera/projects/profile-identity/data/vera_ml_quests.csv\")\n",
    "\n",
    "X, Y = [], []\n",
    "\n",
    "for label, category in enumerate(data.columns):\n",
    "    for q in data.loc[~pd.isnull(data[category])][category].values:\n",
    "        Y.append(label)\n",
    "        X.append(calculate_vector(q))\n",
    "        \n",
    "X = np.array(X)\n",
    "Y = np.array(Y)"
   ]
  },
  {
   "cell_type": "raw",
   "metadata": {},
   "source": []
  },
  {
   "cell_type": "code",
   "execution_count": 30,
   "metadata": {},
   "outputs": [],
   "source": [
    "clf = KNeighborsClassifier(n_neighbors=3, metric=\"manhattan\")"
   ]
  },
  {
   "cell_type": "code",
   "execution_count": 31,
   "metadata": {},
   "outputs": [],
   "source": [
    "loo = LeaveOneOut()"
   ]
  },
  {
   "cell_type": "code",
   "execution_count": 67,
   "metadata": {},
   "outputs": [
    {
     "name": "stdout",
     "output_type": "stream",
     "text": [
      "0.38095238095238093\n",
      "{'metric': 'manhattan', 'n_neighbors': 2}\n"
     ]
    }
   ],
   "source": [
    "y_true, y_pred = [], []\n",
    "\n",
    "parameters = {'metric':('manhattan', 'euclidean', 'chebyshev',\n",
    "                        'minkowski'), 'n_neighbors':[2, 3, 5, 10, 20]}\n",
    "grd = GridSearchCV(clf, parameters, cv = loo)\n",
    "grd.fit(X, Y)\n",
    "print(grd.best_score_)\n",
    "print(grd.best_params_)\n",
    "\n",
    "# for train_index, test_index in loo.split(X):\n",
    "#     X_train, X_test = X[train_index], X[test_index]\n",
    "#     Y_train, Y_test = Y[train_index], Y[test_index]\n",
    "    \n",
    "#     grd.fit(X_train, Y_train)\n",
    "    \n",
    "#     Y_predict = grd.predict(X_test)\n",
    "    \n",
    "#     y_true += list(Y_test)\n",
    "#     y_pred += list(Y_predict)\n",
    "#     print(grd.best_params_)\n",
    "# print(accuracy_score(y_true, y_pred))\n"
   ]
  },
  {
   "cell_type": "code",
   "execution_count": 41,
   "metadata": {},
   "outputs": [
    {
     "name": "stdout",
     "output_type": "stream",
     "text": [
      "true\n"
     ]
    }
   ],
   "source": [
    "if 'ракетостроение' in model.wv.vocab:\n",
    "    print('true')\n"
   ]
  },
  {
   "cell_type": "code",
   "execution_count": 43,
   "metadata": {},
   "outputs": [],
   "source": []
  },
  {
   "cell_type": "code",
   "execution_count": null,
   "metadata": {},
   "outputs": [],
   "source": [
    "\n"
   ]
  }
 ],
 "metadata": {
  "kernelspec": {
   "display_name": "Python 3",
   "language": "python",
   "name": "python3"
  },
  "language_info": {
   "codemirror_mode": {
    "name": "ipython",
    "version": 3
   },
   "file_extension": ".py",
   "mimetype": "text/x-python",
   "name": "python",
   "nbconvert_exporter": "python",
   "pygments_lexer": "ipython3",
   "version": "3.6.4"
  }
 },
 "nbformat": 4,
 "nbformat_minor": 2
}
